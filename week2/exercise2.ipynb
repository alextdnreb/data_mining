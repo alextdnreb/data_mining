{
 "cells": [
  {
   "cell_type": "markdown",
   "source": [
    "# Read Data"
   ],
   "metadata": {
    "collapsed": false
   }
  },
  {
   "cell_type": "code",
   "execution_count": 3,
   "outputs": [
    {
     "data": {
      "text/plain": "   Semester             Name                Course  Mark  Attended\n0   FSS2010    Alex Krausche    Database Systems I   1.3        13\n1   FSS2010     Tanja Becker    Database Systems I   2.0        12\n2   FSS2010   Mariano Selina    Database Systems I   1.7         5\n3   FSS2010     Otto Blacher    Database Systems I   2.3        13\n4   FSS2010     Frank Fester    Database Systems I   2.0        13\n5   FSS2010   Susanne Müller    Database Systems I   3.0        12\n6   FSS2010     Avid Morvita    Database Systems I   4.0        13\n7   FSS2010      Steve Queck    Database Systems I   2.7         8\n8   FSS2010  Michaela Martke    Database Systems I   5.0         5\n9   FSS2010    Ulrich Gester    Database Systems I   5.0         7\n10  HWS2010    Alex Krausche   Database Systems II   1.0        12\n11  HWS2010     Tanja Becker   Database Systems II   1.7        13\n12  HWS2010   Mariano Selina   Database Systems II   2.0        10\n13  HWS2010     Otto Blacher   Database Systems II   2.3        10\n14  HWS2010     Frank Fester   Database Systems II   2.0         9\n15  HWS2010  Michaela Martke   Database Systems II   3.7         8\n16  HWS2010    Ulrich Gester   Database Systems II   5.0         9\n17  FSS2010    Alex Krausche  Software Engineering   2.0        13\n18  FSS2010   Mariano Selina  Software Engineering   1.3         6\n19  FSS2010     Otto Blacher  Software Engineering   2.0        12\n20  FSS2010     Frank Fester  Software Engineering   2.7        13\n21  FSS2010   Susanne Müller  Software Engineering   2.3        11\n22  FSS2010     Avid Morvita  Software Engineering   3.0        10\n23  FSS2010      Steve Queck  Software Engineering   3.0         8\n24  FSS2010  Michaela Martke  Software Engineering   3.3         6\n25  FSS2010    Ulrich Gester  Software Engineering   4.0         9\n26  HWS2010   Mariano Selina          Algorithms I   1.7         6\n27  HWS2010     Otto Blacher          Algorithms I   2.7        12\n28  HWS2010     Frank Fester          Algorithms I   2.3        11\n29  HWS2010  Michaela Martke          Algorithms I   3.3        10\n30  HWS2010    Ulrich Gester          Algorithms I   5.0         9\n31  FSS2010    Alex Krausche    Electronic Markets   1.0        12\n32  FSS2010     Tanja Becker    Electronic Markets   1.3        11\n33  FSS2010   Mariano Selina    Electronic Markets   1.7         4\n34  FSS2010     Otto Blacher    Electronic Markets   2.0        12\n35  FSS2010     Frank Fester    Electronic Markets   2.0        12\n36  FSS2010   Susanne Müller    Electronic Markets   2.0        13\n37  FSS2010     Avid Morvita    Electronic Markets   2.3        11\n38  FSS2010      Steve Queck    Electronic Markets   2.7         9\n39  FSS2010  Michaela Martke    Electronic Markets   3.0         8\n40  FSS2010    Ulrich Gester    Electronic Markets   3.0         9",
      "text/html": "<div>\n<style scoped>\n    .dataframe tbody tr th:only-of-type {\n        vertical-align: middle;\n    }\n\n    .dataframe tbody tr th {\n        vertical-align: top;\n    }\n\n    .dataframe thead th {\n        text-align: right;\n    }\n</style>\n<table border=\"1\" class=\"dataframe\">\n  <thead>\n    <tr style=\"text-align: right;\">\n      <th></th>\n      <th>Semester</th>\n      <th>Name</th>\n      <th>Course</th>\n      <th>Mark</th>\n      <th>Attended</th>\n    </tr>\n  </thead>\n  <tbody>\n    <tr>\n      <th>0</th>\n      <td>FSS2010</td>\n      <td>Alex Krausche</td>\n      <td>Database Systems I</td>\n      <td>1.3</td>\n      <td>13</td>\n    </tr>\n    <tr>\n      <th>1</th>\n      <td>FSS2010</td>\n      <td>Tanja Becker</td>\n      <td>Database Systems I</td>\n      <td>2.0</td>\n      <td>12</td>\n    </tr>\n    <tr>\n      <th>2</th>\n      <td>FSS2010</td>\n      <td>Mariano Selina</td>\n      <td>Database Systems I</td>\n      <td>1.7</td>\n      <td>5</td>\n    </tr>\n    <tr>\n      <th>3</th>\n      <td>FSS2010</td>\n      <td>Otto Blacher</td>\n      <td>Database Systems I</td>\n      <td>2.3</td>\n      <td>13</td>\n    </tr>\n    <tr>\n      <th>4</th>\n      <td>FSS2010</td>\n      <td>Frank Fester</td>\n      <td>Database Systems I</td>\n      <td>2.0</td>\n      <td>13</td>\n    </tr>\n    <tr>\n      <th>5</th>\n      <td>FSS2010</td>\n      <td>Susanne Müller</td>\n      <td>Database Systems I</td>\n      <td>3.0</td>\n      <td>12</td>\n    </tr>\n    <tr>\n      <th>6</th>\n      <td>FSS2010</td>\n      <td>Avid Morvita</td>\n      <td>Database Systems I</td>\n      <td>4.0</td>\n      <td>13</td>\n    </tr>\n    <tr>\n      <th>7</th>\n      <td>FSS2010</td>\n      <td>Steve Queck</td>\n      <td>Database Systems I</td>\n      <td>2.7</td>\n      <td>8</td>\n    </tr>\n    <tr>\n      <th>8</th>\n      <td>FSS2010</td>\n      <td>Michaela Martke</td>\n      <td>Database Systems I</td>\n      <td>5.0</td>\n      <td>5</td>\n    </tr>\n    <tr>\n      <th>9</th>\n      <td>FSS2010</td>\n      <td>Ulrich Gester</td>\n      <td>Database Systems I</td>\n      <td>5.0</td>\n      <td>7</td>\n    </tr>\n    <tr>\n      <th>10</th>\n      <td>HWS2010</td>\n      <td>Alex Krausche</td>\n      <td>Database Systems II</td>\n      <td>1.0</td>\n      <td>12</td>\n    </tr>\n    <tr>\n      <th>11</th>\n      <td>HWS2010</td>\n      <td>Tanja Becker</td>\n      <td>Database Systems II</td>\n      <td>1.7</td>\n      <td>13</td>\n    </tr>\n    <tr>\n      <th>12</th>\n      <td>HWS2010</td>\n      <td>Mariano Selina</td>\n      <td>Database Systems II</td>\n      <td>2.0</td>\n      <td>10</td>\n    </tr>\n    <tr>\n      <th>13</th>\n      <td>HWS2010</td>\n      <td>Otto Blacher</td>\n      <td>Database Systems II</td>\n      <td>2.3</td>\n      <td>10</td>\n    </tr>\n    <tr>\n      <th>14</th>\n      <td>HWS2010</td>\n      <td>Frank Fester</td>\n      <td>Database Systems II</td>\n      <td>2.0</td>\n      <td>9</td>\n    </tr>\n    <tr>\n      <th>15</th>\n      <td>HWS2010</td>\n      <td>Michaela Martke</td>\n      <td>Database Systems II</td>\n      <td>3.7</td>\n      <td>8</td>\n    </tr>\n    <tr>\n      <th>16</th>\n      <td>HWS2010</td>\n      <td>Ulrich Gester</td>\n      <td>Database Systems II</td>\n      <td>5.0</td>\n      <td>9</td>\n    </tr>\n    <tr>\n      <th>17</th>\n      <td>FSS2010</td>\n      <td>Alex Krausche</td>\n      <td>Software Engineering</td>\n      <td>2.0</td>\n      <td>13</td>\n    </tr>\n    <tr>\n      <th>18</th>\n      <td>FSS2010</td>\n      <td>Mariano Selina</td>\n      <td>Software Engineering</td>\n      <td>1.3</td>\n      <td>6</td>\n    </tr>\n    <tr>\n      <th>19</th>\n      <td>FSS2010</td>\n      <td>Otto Blacher</td>\n      <td>Software Engineering</td>\n      <td>2.0</td>\n      <td>12</td>\n    </tr>\n    <tr>\n      <th>20</th>\n      <td>FSS2010</td>\n      <td>Frank Fester</td>\n      <td>Software Engineering</td>\n      <td>2.7</td>\n      <td>13</td>\n    </tr>\n    <tr>\n      <th>21</th>\n      <td>FSS2010</td>\n      <td>Susanne Müller</td>\n      <td>Software Engineering</td>\n      <td>2.3</td>\n      <td>11</td>\n    </tr>\n    <tr>\n      <th>22</th>\n      <td>FSS2010</td>\n      <td>Avid Morvita</td>\n      <td>Software Engineering</td>\n      <td>3.0</td>\n      <td>10</td>\n    </tr>\n    <tr>\n      <th>23</th>\n      <td>FSS2010</td>\n      <td>Steve Queck</td>\n      <td>Software Engineering</td>\n      <td>3.0</td>\n      <td>8</td>\n    </tr>\n    <tr>\n      <th>24</th>\n      <td>FSS2010</td>\n      <td>Michaela Martke</td>\n      <td>Software Engineering</td>\n      <td>3.3</td>\n      <td>6</td>\n    </tr>\n    <tr>\n      <th>25</th>\n      <td>FSS2010</td>\n      <td>Ulrich Gester</td>\n      <td>Software Engineering</td>\n      <td>4.0</td>\n      <td>9</td>\n    </tr>\n    <tr>\n      <th>26</th>\n      <td>HWS2010</td>\n      <td>Mariano Selina</td>\n      <td>Algorithms I</td>\n      <td>1.7</td>\n      <td>6</td>\n    </tr>\n    <tr>\n      <th>27</th>\n      <td>HWS2010</td>\n      <td>Otto Blacher</td>\n      <td>Algorithms I</td>\n      <td>2.7</td>\n      <td>12</td>\n    </tr>\n    <tr>\n      <th>28</th>\n      <td>HWS2010</td>\n      <td>Frank Fester</td>\n      <td>Algorithms I</td>\n      <td>2.3</td>\n      <td>11</td>\n    </tr>\n    <tr>\n      <th>29</th>\n      <td>HWS2010</td>\n      <td>Michaela Martke</td>\n      <td>Algorithms I</td>\n      <td>3.3</td>\n      <td>10</td>\n    </tr>\n    <tr>\n      <th>30</th>\n      <td>HWS2010</td>\n      <td>Ulrich Gester</td>\n      <td>Algorithms I</td>\n      <td>5.0</td>\n      <td>9</td>\n    </tr>\n    <tr>\n      <th>31</th>\n      <td>FSS2010</td>\n      <td>Alex Krausche</td>\n      <td>Electronic Markets</td>\n      <td>1.0</td>\n      <td>12</td>\n    </tr>\n    <tr>\n      <th>32</th>\n      <td>FSS2010</td>\n      <td>Tanja Becker</td>\n      <td>Electronic Markets</td>\n      <td>1.3</td>\n      <td>11</td>\n    </tr>\n    <tr>\n      <th>33</th>\n      <td>FSS2010</td>\n      <td>Mariano Selina</td>\n      <td>Electronic Markets</td>\n      <td>1.7</td>\n      <td>4</td>\n    </tr>\n    <tr>\n      <th>34</th>\n      <td>FSS2010</td>\n      <td>Otto Blacher</td>\n      <td>Electronic Markets</td>\n      <td>2.0</td>\n      <td>12</td>\n    </tr>\n    <tr>\n      <th>35</th>\n      <td>FSS2010</td>\n      <td>Frank Fester</td>\n      <td>Electronic Markets</td>\n      <td>2.0</td>\n      <td>12</td>\n    </tr>\n    <tr>\n      <th>36</th>\n      <td>FSS2010</td>\n      <td>Susanne Müller</td>\n      <td>Electronic Markets</td>\n      <td>2.0</td>\n      <td>13</td>\n    </tr>\n    <tr>\n      <th>37</th>\n      <td>FSS2010</td>\n      <td>Avid Morvita</td>\n      <td>Electronic Markets</td>\n      <td>2.3</td>\n      <td>11</td>\n    </tr>\n    <tr>\n      <th>38</th>\n      <td>FSS2010</td>\n      <td>Steve Queck</td>\n      <td>Electronic Markets</td>\n      <td>2.7</td>\n      <td>9</td>\n    </tr>\n    <tr>\n      <th>39</th>\n      <td>FSS2010</td>\n      <td>Michaela Martke</td>\n      <td>Electronic Markets</td>\n      <td>3.0</td>\n      <td>8</td>\n    </tr>\n    <tr>\n      <th>40</th>\n      <td>FSS2010</td>\n      <td>Ulrich Gester</td>\n      <td>Electronic Markets</td>\n      <td>3.0</td>\n      <td>9</td>\n    </tr>\n  </tbody>\n</table>\n</div>"
     },
     "execution_count": 3,
     "metadata": {},
     "output_type": "execute_result"
    }
   ],
   "source": [
    "import pandas as pd\n",
    "\n",
    "dataset = pd.read_excel(\"../week1/data-exercise-1.xls\")\n",
    "\n",
    "dataset"
   ],
   "metadata": {
    "collapsed": false
   }
  },
  {
   "cell_type": "markdown",
   "source": [
    "# Group Dataset"
   ],
   "metadata": {
    "collapsed": false
   }
  },
  {
   "cell_type": "code",
   "execution_count": 25,
   "outputs": [
    {
     "name": "stdout",
     "output_type": "stream",
     "text": [
      "                  Attended      Mark\n",
      "Name                                \n",
      "Alex Krausche    12.500000  1.325000\n",
      "Avid Morvita     11.333333  3.100000\n",
      "Frank Fester     11.600000  2.200000\n",
      "Mariano Selina    6.200000  1.680000\n",
      "Michaela Martke   7.400000  3.660000\n",
      "Otto Blacher     11.800000  2.260000\n",
      "Steve Queck       8.333333  2.800000\n",
      "Susanne Müller   12.000000  2.433333\n",
      "Tanja Becker     12.000000  1.666667\n",
      "Ulrich Gester     8.600000  4.400000\n"
     ]
    }
   ],
   "source": [
    "grouped_df = dataset[[\"Name\", \"Attended\", \"Mark\"]].groupby(by=[\"Name\"]).mean()\n",
    "\n",
    "print(grouped_df)"
   ],
   "metadata": {
    "collapsed": false
   }
  },
  {
   "cell_type": "markdown",
   "source": [
    "# Normalize"
   ],
   "metadata": {
    "collapsed": false
   }
  },
  {
   "cell_type": "code",
   "execution_count": 46,
   "outputs": [
    {
     "name": "stdout",
     "output_type": "stream",
     "text": [
      "                 Attended      Mark\n",
      "Name                               \n",
      "Alex Krausche    1.000000  0.000000\n",
      "Avid Morvita     0.814815  0.577236\n",
      "Frank Fester     0.857143  0.284553\n",
      "Mariano Selina   0.000000  0.115447\n",
      "Michaela Martke  0.190476  0.759350\n",
      "Otto Blacher     0.888889  0.304065\n",
      "Steve Queck      0.338624  0.479675\n",
      "Susanne Müller   0.920635  0.360434\n",
      "Tanja Becker     0.920635  0.111111\n",
      "Ulrich Gester    0.380952  1.000000\n"
     ]
    }
   ],
   "source": [
    "from sklearn.preprocessing import MinMaxScaler\n",
    "\n",
    "scaler = MinMaxScaler()\n",
    "# scaler = StandardScaler()\n",
    "\n",
    "normalized_df = grouped_df.copy()\n",
    "normalized_df[[\"Mark\", \"Attended\"]] = scaler.fit_transform(normalized_df[[\"Mark\", \"Attended\"]])\n",
    "\n",
    "print(normalized_df)"
   ],
   "metadata": {
    "collapsed": false
   }
  },
  {
   "cell_type": "markdown",
   "source": [
    "# Cluster"
   ],
   "metadata": {
    "collapsed": false
   }
  },
  {
   "cell_type": "code",
   "execution_count": 47,
   "outputs": [
    {
     "name": "stdout",
     "output_type": "stream",
     "text": [
      "                 Attended      Mark  clusters\n",
      "Name                                         \n",
      "Alex Krausche    1.000000  0.000000         0\n",
      "Avid Morvita     0.814815  0.577236         0\n",
      "Frank Fester     0.857143  0.284553         0\n",
      "Otto Blacher     0.888889  0.304065         0\n",
      "Susanne Müller   0.920635  0.360434         0\n",
      "Tanja Becker     0.920635  0.111111         0\n",
      "Michaela Martke  0.190476  0.759350         1\n",
      "Steve Queck      0.338624  0.479675         1\n",
      "Ulrich Gester    0.380952  1.000000         1\n",
      "Mariano Selina   0.000000  0.115447         2\n"
     ]
    }
   ],
   "source": [
    "from sklearn.cluster import KMeans\n",
    "\n",
    "estimator = KMeans(n_clusters=3)\n",
    "\n",
    "clusters = estimator.fit_predict(normalized_df[[\"Attended\", \"Mark\"]])\n",
    "\n",
    "clustered_df = normalized_df.copy()\n",
    "\n",
    "clustered_df[\"clusters\"] = clusters\n",
    "\n",
    "clustered_df.sort_values(by=\"clusters\", inplace=True)\n",
    "\n",
    "print(clustered_df)"
   ],
   "metadata": {
    "collapsed": false
   }
  },
  {
   "cell_type": "markdown",
   "source": [
    "# Plot Clusters"
   ],
   "metadata": {
    "collapsed": false
   }
  },
  {
   "cell_type": "code",
   "execution_count": 48,
   "outputs": [
    {
     "data": {
      "text/plain": "<Figure size 640x480 with 1 Axes>",
      "image/png": "[encoded data removed]"
     },
     "metadata": {},
     "output_type": "display_data"
    }
   ],
   "source": [
    "import matplotlib.pyplot as plt\n",
    "\n",
    "plt.title(\"Plot Student Clusters\")\n",
    "\n",
    "plt.xlabel(\"Attended\")\n",
    "plt.ylabel(\"Grade\")\n",
    "\n",
    "plt.scatter(clustered_df[\"Attended\"], clustered_df[\"Mark\"], c=clustered_df[\"clusters\"])\n",
    "\n",
    "plt.show()"
   ],
   "metadata": {
    "collapsed": false
   }
  },
  {
   "cell_type": "markdown",
   "source": [],
   "metadata": {
    "collapsed": false
   }
  }
 ],
 "metadata": {
  "kernelspec": {
   "display_name": "Python 3",
   "language": "python",
   "name": "python3"
  },
  "language_info": {
   "codemirror_mode": {
    "name": "ipython",
    "version": 2
   },
   "file_extension": ".py",
   "mimetype": "text/x-python",
   "name": "python",
   "nbconvert_exporter": "python",
   "pygments_lexer": "ipython2",
   "version": "2.7.6"
  }
 },
 "nbformat": 4,
 "nbformat_minor": 0
}
